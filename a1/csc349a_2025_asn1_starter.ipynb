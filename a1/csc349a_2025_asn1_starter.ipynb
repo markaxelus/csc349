{
  "nbformat": 4,
  "nbformat_minor": 0,
  "metadata": {
    "colab": {
      "provenance": []
    },
    "kernelspec": {
      "name": "python3",
      "display_name": "Python 3"
    },
    "language_info": {
      "name": "python"
    }
  },
  "cells": [
    {
      "cell_type": "markdown",
      "source": [
        "# CSC349A - Fall 2025 - Assignment 1 - Instructor: George Tzanetakis\n",
        "\n",
        "\n",
        "Some of the questions of the assignments are recycled from previous years but typically\n",
        "with small changes in either the description or the numbers. Any submission that\n",
        "contains numbers from previous years in any questions will be immediately graded\n",
        "with zero.\n",
        "\n"
      ],
      "metadata": {
        "id": "MTqEogSsL34l"
      }
    },
    {
      "cell_type": "markdown",
      "source": [
        "# QUESTION 1\n",
        "\n",
        "A Python function **Euler** for Euler’s method (as described in class) for solving the falling parachutist problem modeled by the differential equation:\n",
        "$\\frac{dv}{dt} = g - \\frac{c}{m} v $ is given below.\n",
        "\n",
        "As discussed in class, this numerical method is obtained by approximating $\\frac{dv}{dt}$ at time $t_i$ by\n",
        "$\\frac{v(t_{i+1})-v(t_i)}{t_{i+1}-t_i}$, which results in the computed approximation:\n",
        "$$\n",
        "v(t_{t+1}) = v(t_i) + \\left[ g-\\frac{c}{m} v(t_i) \\right] (t_{i+1}-t_i).\n",
        "$$\n",
        "\n",
        "\n",
        "In order to use the above function, you must specify values for the 7 local parameters in the function Euler:\n",
        "> **m** is the mass of the falling object\n",
        "> **c** is the drag coefficient.    \n",
        "> **g** is the gravity constant    \n",
        "> **t0** is the initial time, **v0** is the initial velocity    \n",
        "> **tn** is the final time at which the velocity is to be computed    \n",
        "> **n** is the number of time steps into which $[t_0 , t_n]$ is divided\n",
        "\n",
        "Thus, in the function **Euler**, the step size $h = (t_n - t_0)/n$ is computed,\n",
        "and Euler's method is used to compute an approximation to the solution $v(t)$ of the differential\n",
        "equation at the $n$ points (values of time)\n",
        "$$\n",
        "\tt_0 + h,\\   t_0 + 2h,\\   t_0 + 3h,\\   t_0 + 4h,\\   \\ldots ,\\  t_0 + nh \\ =\\  t_n.\n",
        "$$\n",
        "\n",
        "\n",
        "## Question 1a\n",
        "Write a function **skyfall_euler** in Python that implements this numerical approach and returns an array with the first column containing the times and the second column containing the velocity values. Check that the function works for the values in the textbook example.\n",
        "$m = 68.1$, $c = 12.5$ and initial\n",
        "conditions $v(0) = 0$ on the time interval $[0, 12]$ using $6$ time steps and $g = 9.81$.\n",
        "\n",
        "The resulting array should be named **result_1a**"
      ],
      "metadata": {
        "id": "VICWCqBqME1t"
      }
    },
    {
      "cell_type": "code",
      "source": [
        "import numpy as np"
      ],
      "metadata": {
        "id": "7F9s7ppXQ9hQ"
      },
      "execution_count": null,
      "outputs": []
    },
    {
      "cell_type": "code",
      "source": [
        "# compute the Euler-based numerical approximation\n",
        "# to the falling parachutist problem\n",
        "#\n",
        "# return the result as a np.array with two columns\n",
        "# the first one containing the times in seconds\n",
        "# and the second the values of the approximation\n",
        "\n",
        "def skyfall_euler(m,c,g,t0,v0,tn,n):\n",
        "  # computer step size h\n",
        "  h = (tn-t0)/n\n",
        "  # set t, v to initial values\n",
        "  t = t0\n",
        "  v = v0\n",
        "\n",
        "  # allocate array for result\n",
        "  result = np.zeros((n+1,2))\n",
        "  result[0] = [t,v]\n",
        "  # compute v(t) over n time steps using Euler’s method\n",
        "  for i in range(1,n+1):\n",
        "    v=v+(g-c/m*v)*h\n",
        "    t=t+h\n",
        "    result[i,:] = [t,v]\n",
        "  return result\n",
        "\n",
        "# print the returned values\n",
        "def output_values(result):\n",
        "  print('value of t approximation v(t)\\n')\n",
        "  for r in result:\n",
        "    t,v = r\n",
        "    print(f\"{t:8.3f} {v:19.4f}\")\n",
        "\n",
        "\n"
      ],
      "metadata": {
        "id": "V-0BdlSOMMJk"
      },
      "execution_count": null,
      "outputs": []
    },
    {
      "cell_type": "code",
      "source": [
        "# Your code goes here\n",
        "# result_1a =\n",
        "\n"
      ],
      "metadata": {
        "id": "qGX96KVOoelH"
      },
      "execution_count": null,
      "outputs": []
    },
    {
      "cell_type": "markdown",
      "source": [
        "## Question 1b\n",
        "\n",
        "Use the provided **skyfall_euler** function  to solve the diﬀerential equation using $m = 62.8$, $c = 12.5$ and initial\n",
        "conditions $v(0) = 0$ on the time interval $[0, 12]$ using $15$ time steps and $g = 9.81$. The resulting array should be named **result_1b**."
      ],
      "metadata": {
        "id": "qJZAPH4dOt_r"
      }
    },
    {
      "cell_type": "code",
      "source": [
        "# Your code goes here\n",
        "# result_1b =\n",
        "\n"
      ],
      "metadata": {
        "id": "t8nhGtQqNPgZ"
      },
      "execution_count": null,
      "outputs": []
    },
    {
      "cell_type": "markdown",
      "source": [
        "## Question 1c\n",
        "\n",
        "Use the provided **skyfall_euler** to solve the diﬀerential equation using $m = 62.8$, $c = 12.5$ and initial\n",
        "conditions $v(0) = 0$ on the time interval $[0, 12]$ using $15$ time steps. Use a gravitational constant of 3.71 (as would be the case if the parachutist was falling on Mars). The resulting array should be named  **result_1c**."
      ],
      "metadata": {
        "id": "3U3--_S0m0KB"
      }
    },
    {
      "cell_type": "code",
      "source": [
        "# Your code goes here\n",
        "# result_1c =\n"
      ],
      "metadata": {
        "id": "iWpfvtp6L2l9"
      },
      "execution_count": null,
      "outputs": []
    },
    {
      "cell_type": "markdown",
      "source": [
        "## Question 1d\n",
        "\n",
        "Compute the relative error $|\\epsilon_t|$ in the computed approximation at time $t = 12$, using the constants from Q1b.\n",
        "\n",
        "\n",
        "\n",
        "To do this, use the true (exact) solution:\n",
        "\\begin{equation}\n",
        "v(t) = \\frac{gm}{c} (1 - e^{-\\frac{ct}{m}})\n",
        "\\end{equation}\n",
        "\n",
        "Write a function **skyfall_analytic** that computes the velocity at time $t$ and returns it as a floating point number. The write a function **skyfall_numeric** that has the same signature (i.e the same function arguments and returns a floating point value) and calls **skyfall_euler** to find the numerical approximation at time $t$ using $15$ time steps."
      ],
      "metadata": {
        "id": "UMKS1zZFOAY2"
      }
    },
    {
      "cell_type": "code",
      "source": [
        "def skyfall_analytic(g,m,c,t):\n",
        "  # modify code as described above to return the right value\n",
        "  return 0\n",
        "\n",
        "def relative_error(exact, approximate):\n",
        "  # modify code as described above to return the right value\n",
        "  return 0\n",
        "\n",
        "\n",
        "def skyfall_numeric(g,m,c,t):\n",
        "  # modify code as described above to return the right value\n",
        "  return 0\n",
        "\n",
        "\n"
      ],
      "metadata": {
        "id": "4qS958Q0T89i"
      },
      "execution_count": null,
      "outputs": []
    },
    {
      "cell_type": "code",
      "source": [
        "# this code will display the relative error once the functions are\n",
        "# implemented correctly\n",
        "p = skyfall_analytic (9.81,62.8,12.5,12)\n",
        "pstar = skyfall_numeric(9.81,62.8,12.5,12)\n",
        "\n",
        "e_a = relative_error(p, pstar)\n",
        "print(f\"Relative Error: {e_a:8.4f}\")\n"
      ],
      "metadata": {
        "id": "Z8cMkjRcPIzP"
      },
      "execution_count": null,
      "outputs": []
    },
    {
      "cell_type": "markdown",
      "source": [
        "# QUESTION 2\n",
        "\n",
        "In our mathematical model of a falling parachutist, instead of assuming that air resistance is linearly proportional to velocity (that is, $F_U=-cv$), you might choose to model the upward force on the parachutist as a second-order relationship,\n",
        "%%\n",
        "F_U=-kv^2\n",
        "%%\n",
        "where $k$ is a second-order drag coefficient. This leads to the following differential equation\n",
        "$$\n",
        "\\frac{dv}{dt}=g-\\frac{k}{m}v^2\n",
        "$$\n",
        "\n",
        "\n",
        "Modify the function **skyfall_euler** in Question 1 so that it will use Euler’s method to solve this differential equation.  Use the function header:\n",
        ">\tskyfall_euler2(m , k , g, t0 , v0 , tn , n)\n"
      ],
      "metadata": {
        "id": "_JIyrPR-QFHo"
      }
    },
    {
      "cell_type": "code",
      "source": [
        "def skyfall_euler2(m,k,g,t0,v0,tn,n):\n",
        "  # modify code as described above to return the right array of times and values\n",
        "  result = np.zeros((n+1,2))\n",
        "  return result\n",
        "\n",
        "\n",
        "\n",
        "\n"
      ],
      "metadata": {
        "id": "sEZSCPdEUsAf"
      },
      "execution_count": null,
      "outputs": []
    },
    {
      "cell_type": "markdown",
      "source": [
        " ## Question 2a\n",
        "\n",
        " Use **skyfall_euler2** to compute a numerical approximation to the above differential equation using $m = 73.5$, $k = 0.234$ and initial condition $v(0) = 0$ on the time interval $[0, 18]$ using $72$ time steps.  \n"
      ],
      "metadata": {
        "id": "CocjIugNQr_b"
      }
    },
    {
      "cell_type": "code",
      "source": [
        "result_2a = skyfall_euler2(73.5,0.234,9.81,0,0,18,72)\n",
        "# output_values(result_2a)"
      ],
      "metadata": {
        "id": "ZgQfQfT_W76e"
      },
      "execution_count": null,
      "outputs": []
    },
    {
      "cell_type": "markdown",
      "source": [
        "## Question 2b\n",
        "\n",
        "Use the fact the exact analytic solution of this problem is\n",
        "$$\n",
        "v(t)=\\sqrt{\\frac{gm}{k}}\\tanh{\\left(\\sqrt{\\frac{gk}{m}}t\\right)}\n",
        "$$\n",
        "\n",
        "to compute the relative error in the computed solution at $t=18$. Write a functions **skyfall_analytic2** and **skyfall_numeric2** for that purpose. Create a string called **relative_error_scientific** that contains the string corresponding to the scientific notation for this relative error."
      ],
      "metadata": {
        "id": "27lTgSGEREJj"
      }
    },
    {
      "cell_type": "code",
      "source": [
        "\n",
        "def skyfall_analytic2(g,m,k,t):\n",
        "  # modify code as described above to return the right value\n",
        "  return 0\n",
        "\n",
        "def skyfall_numeric2(g,m,c,t):\n",
        "  # modify code as described above to return the right value\n",
        "  return 0\n",
        "\n",
        "\n",
        "p =  skyfall_analytic2(9.81, 73.5, 0.234, 18)\n",
        "pstar = skyfall_numeric2(9.81, 73.5, 0.234, 18)\n",
        "e_a = relative_error(p, pstar)\n",
        "\n",
        "relative_error_scientific = f\"{e_a:e}\"  # Using f-string\n",
        "print(relative_error_scientific)"
      ],
      "metadata": {
        "id": "7h9VnTmSkbDc"
      },
      "execution_count": null,
      "outputs": []
    },
    {
      "cell_type": "markdown",
      "source": [
        "# QUESTION 3\n",
        "\n",
        "The function $e^{-x}$ can be approximated by its McLaurin series expansion as follows (note the alternating $+$ and $-$):\n",
        "\n",
        "$$\n",
        "e^{-x} \\approx 1 - x + \\frac{x^2}{2!} - \\frac{x^3}{3!} + \\ldots \\pm \\frac{x^n}{n!}\n",
        "$$\n",
        "\n",
        "\n",
        "Alternatively, note that $e^{-x}=\\frac{1}{e^x}$. Thus, $e^{-x}$ can also be apporximated by 1 over the McLaurin series expansion of $e^x$. That is,\n",
        "\n",
        "$$\n",
        "e^{-x} \\approx \\frac{1}{1 + x + \\frac{x^2}{2!} + \\frac{x^3}{3!} + \\ldots + \\frac{x^n}{n!}}\n",
        "$$\n",
        "\n",
        "Approximate $e^{-2}$ using both approaches above for $n=1,2,3,4$ and $5$. Note, $n$ is the degree of the polynomial not the number of terms. So here you use 2 terms, then 3 terms, ..., and finally 6 terms. Compare each approximation to the true value of $e^{-2}=0.135335...$, using the true relative error. What conclusions can you make about the two approaches?"
      ],
      "metadata": {
        "id": "tlp1pABBL47O"
      }
    },
    {
      "cell_type": "markdown",
      "source": [
        "## Question 3a\n",
        "\n",
        "Write functions **enegx_Taylo1** and **enegx_Taylor2** that approximate $e^{-x}$ with the two approaches described above in the same order. Use math.factorial for the computation of the factorial function."
      ],
      "metadata": {
        "id": "7mYK4EdfUF8N"
      }
    },
    {
      "cell_type": "code",
      "source": [
        "import math\n",
        "\n",
        "# enegx_Taylor1 Approximates e^(-x) with the\n",
        "# nth degree McLaurin polynomial for e^(-x)\n",
        "\n",
        "def enegx_Taylor1(x,n):\n",
        "  # modify code as described above to return the right value\n",
        "  return 0\n",
        "\n",
        "# enegx_Taylor2 Approximates e^(-x) with 1 over\n",
        "# the nth degree McLaurin polynomial for e^x\n",
        "\n",
        "def enegx_Taylor2(x,n):\n",
        "  # modify code as described above to return the right value\n",
        "  return fx\n"
      ],
      "metadata": {
        "id": "RFzRNL8dkx9O"
      },
      "execution_count": null,
      "outputs": []
    },
    {
      "cell_type": "markdown",
      "source": [
        "## Question 3b\n",
        "\n",
        "Create two arrays that contain the $5$ approximations to the value of $e^{-2.0}$ using the two approaches named **approximations1** and **approximations2**.\n",
        "Then create an array with the exact value of $e^{-2.0}$ calculated using the **np.exp** function. Compute the arrays of relative errors for each approach (**relative_error1**, **relative_errro2**) - use vectorized operations and list comprehensions i.e no loops.  \n",
        "\n",
        "\n"
      ],
      "metadata": {
        "id": "Q37MdKKQUqkW"
      }
    },
    {
      "cell_type": "code",
      "source": [
        "# approximations1 =\n",
        "# approximations2 =\n",
        "# exact =\n",
        "\n",
        "# print(exact)\n",
        "# print(approximations1)\n",
        "# print(approximations2)\n",
        "\n",
        "# relative_error1 =\n",
        "# relative_error2 =\n",
        "\n",
        "# print(relative_error1)\n",
        "# print(relative_error2)\n"
      ],
      "metadata": {
        "id": "DTDqE3QKiJ2U"
      },
      "execution_count": null,
      "outputs": []
    },
    {
      "cell_type": "markdown",
      "source": [
        "## Question 3c\n",
        "\n",
        "Create a plot showing the two approximation for different orders as well as the exact value to visuallly illustrate which numerical approximation is better. Check that the figure created looks like the figure provided."
      ],
      "metadata": {
        "id": "Hb84tNB1V0bq"
      }
    },
    {
      "cell_type": "code",
      "source": [
        "import matplotlib.pyplot as plt\n",
        "\n",
        "fig, ax = plt.subplots()\n",
        "# your code goes here\n",
        "\n",
        "plt.plot([1.0, 3.0, -2.0, 5.0, 1.5], label='Random')\n",
        "# random plot - remove in your submission\n",
        "\n",
        "# Add labels and title\n",
        "plt.xlabel(\"Order of polynomial approximation\")\n",
        "plt.ylabel(\"Approximate value of function\")\n",
        "\n",
        "# change title appropriately\n",
        "plt.title(\"Random Plot\")\n",
        "\n",
        "plt.legend()\n",
        "# save the plot to a file\n",
        "plt.savefig(\"csc349a_asn1_q3.png\", dpi=300, bbox_inches='tight')\n",
        "\n",
        "# Display the plot\n",
        "plt.show()\n",
        "\n",
        "\n",
        "# set the best approximation to either \"Approximation 1\" or \"Approximation 2\"\n",
        "# depending on which one you consider best\n",
        "# best_approximation =\n"
      ],
      "metadata": {
        "id": "2QWZZhTdia9f"
      },
      "execution_count": null,
      "outputs": []
    },
    {
      "cell_type": "code",
      "source": [
        "\n"
      ],
      "metadata": {
        "id": "6hOmFpI7EFy9"
      },
      "execution_count": null,
      "outputs": []
    },
    {
      "cell_type": "code",
      "source": [],
      "metadata": {
        "id": "tpIho2O7Mj_C"
      },
      "execution_count": null,
      "outputs": []
    }
  ]
}